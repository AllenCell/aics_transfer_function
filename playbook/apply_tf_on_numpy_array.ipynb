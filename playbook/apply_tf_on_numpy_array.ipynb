{
 "cells": [
  {
   "cell_type": "code",
   "execution_count": 1,
   "metadata": {},
   "outputs": [],
   "source": [
    "from aics_transfer_function.options import BaseOptions\n",
    "from aics_transfer_function.proj_tester import ProjectTester\n",
    "from aicsimageio import AICSImage"
   ]
  },
  {
   "cell_type": "code",
   "execution_count": 2,
   "metadata": {},
   "outputs": [],
   "source": [
    "img_fn = \"/allen/aics/assay-dev/computational/tools/transfer_function_model_internal/test_data/lamin_20x_100x_0823/source/lamin_20x_100x_277.tiff\""
   ]
  },
  {
   "cell_type": "code",
   "execution_count": 3,
   "metadata": {},
   "outputs": [],
   "source": [
    "reader = AICSImage(img_fn)\n",
    "img = reader.get_image_data(\"ZYX\", S=0, T=0, C=0)"
   ]
  },
  {
   "cell_type": "code",
   "execution_count": 4,
   "metadata": {},
   "outputs": [],
   "source": [
    "config_fn = \"/allen/aics/assay-dev/computational/tools/transfer_function_model_internal/TF_lamin_20x_100x_0816_config.yaml\""
   ]
  },
  {
   "cell_type": "code",
   "execution_count": 5,
   "metadata": {
    "scrolled": true
   },
   "outputs": [
    {
     "name": "stdout",
     "output_type": "stream",
     "text": [
      "\n",
      "----------------- Options ---------------\n",
      "datapath: {'source': '/allen/aics/assay-dev/computational/tools/transfer_function_model_internal/test_data/lamin_20x_100x_0823/source/', 'prediction': '/allen/aics/assay-dev/computational/tools/transfer_function_model_internal/test_data/lamin_20x_100x_0823/prediction/'}\n",
      "debug: False\n",
      "isTrain: False\n",
      "load_trained_model: {'path': '/allen/aics/assay-dev/computational/tools/transfer_function_model_internal/lamin_20x_100x_0823/', 'epoch': 'latest', 'load_iter': -1}\n",
      "mode: inference\n",
      "network: {'model': 'pix2pix', 'netD': 'n_layers', 'netG': 'unet_256', 'input_nc': 1, 'output_nc': 1, 'ngf': 96, 'ndf': 64, 'n_layers_D': 3, 'no_dropout': False, 'norm': 'batch', 'gan_mode': 'vanilla', 'init_type': 'normal', 'init_gain': 0.02, 'input_patch_size': [32, 256, 256], 'batch_size': 1}\n",
      "normalization: {'source': {'method': 'simple_norm', 'params': '(\"middle_otsu\", 3.0, 14.5)', 'ratio_param': [1.8276, 2.5005, 2.5005]}}\n",
      "output_path: /allen/aics/assay-dev/computational/tools/transfer_function_model_internal/test_data/lamin_20x_100x_0823/prediction\n",
      "resizeA: ratio\n",
      "verbose: False\n",
      "\n",
      "----------------- End -------------------\n",
      "\n"
     ]
    },
    {
     "name": "stderr",
     "output_type": "stream",
     "text": [
      "/allen/aics/assay-dev/users/Jianxu/core_code/aics_transfer_function/aics_transfer_function/options/base_options.py:74: YAMLLoadWarning: calling yaml.load() without Loader=... is deprecated, as the default Loader is unsafe. Please read https://msg.pyyaml.org/load for full details.\n",
      "  opt_dict = yaml.load(stream)\n"
     ]
    }
   ],
   "source": [
    "opt = BaseOptions(config_fn, \"inference\").parse()"
   ]
  },
  {
   "cell_type": "code",
   "execution_count": 6,
   "metadata": {},
   "outputs": [
    {
     "name": "stdout",
     "output_type": "stream",
     "text": [
      "initialize network with normal\n",
      "loading the model from /allen/aics/assay-dev/computational/tools/transfer_function_model_internal/lamin_20x_100x_0823//latest_net_G.pth\n",
      "---------- Networks initialized -------------\n",
      "Network G: \n",
      "Total number of parameters: 367682881\n",
      "-----------------------------------------------\n"
     ]
    }
   ],
   "source": [
    "m = ProjectTester(opt)"
   ]
  },
  {
   "cell_type": "code",
   "execution_count": 7,
   "metadata": {},
   "outputs": [],
   "source": [
    "pred = m.run_inference(img)"
   ]
  },
  {
   "cell_type": "code",
   "execution_count": 8,
   "metadata": {},
   "outputs": [
    {
     "data": {
      "text/plain": [
       "(62, 533, 883)"
      ]
     },
     "execution_count": 8,
     "metadata": {},
     "output_type": "execute_result"
    }
   ],
   "source": [
    "pred.shape"
   ]
  },
  {
   "cell_type": "code",
   "execution_count": 9,
   "metadata": {},
   "outputs": [
    {
     "data": {
      "text/plain": [
       "-0.816009"
      ]
     },
     "execution_count": 9,
     "metadata": {},
     "output_type": "execute_result"
    }
   ],
   "source": [
    "pred.mean()"
   ]
  },
  {
   "cell_type": "code",
   "execution_count": null,
   "metadata": {},
   "outputs": [],
   "source": []
  }
 ],
 "metadata": {
  "kernelspec": {
   "display_name": "Python 3",
   "language": "python",
   "name": "python3"
  },
  "language_info": {
   "codemirror_mode": {
    "name": "ipython",
    "version": 3
   },
   "file_extension": ".py",
   "mimetype": "text/x-python",
   "name": "python",
   "nbconvert_exporter": "python",
   "pygments_lexer": "ipython3",
   "version": "3.7.9"
  }
 },
 "nbformat": 4,
 "nbformat_minor": 4
}
